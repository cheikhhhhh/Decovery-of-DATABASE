{
 "cells": [
  {
   "cell_type": "markdown",
   "id": "5cd40b6a-42b3-4071-941f-56531418b35a",
   "metadata": {},
   "source": [
    "### Import ###"
   ]
  },
  {
   "cell_type": "code",
   "execution_count": null,
   "id": "06ed5f25-5f09-4df9-9569-5e78b9fd8503",
   "metadata": {},
   "outputs": [],
   "source": [
    "BUT : prendre en parametre de 2 lien url de wikepedia et essaye de trouver le chemin le plus cours\n",
    "en utilisant uniquement les redirection du premier lien"
   ]
  },
  {
   "cell_type": "code",
   "execution_count": 2,
   "id": "2f080394-103e-4553-a342-e6e67605fba9",
   "metadata": {},
   "outputs": [],
   "source": [
    "import requests\n",
    "from bs4  import BeautifulSoup"
   ]
  },
  {
   "cell_type": "markdown",
   "id": "4893a51a-aa13-43b7-8d6e-5c28588bae43",
   "metadata": {},
   "source": [
    "### Code ###"
   ]
  },
  {
   "cell_type": "markdown",
   "id": "41ef4ebd-3dc0-4b98-9f4e-35c8c3bfa988",
   "metadata": {},
   "source": [
    "- Recolte Data"
   ]
  },
  {
   "cell_type": "code",
   "execution_count": 60,
   "id": "71cc7908-ca2b-4331-b9d5-c0ffd5d5cd7b",
   "metadata": {},
   "outputs": [
    {
     "name": "stdout",
     "output_type": "stream",
     "text": [
      "1https://www.wikidata.org/wiki/Special:EntityPage/Q5008867\n",
      "2https://fr.wikinews.org/wiki/Page:Sommaire\n",
      "3https://fr.wikisource.org/wiki/Portail:Accueil\n",
      "4https://af.wikipedia.org/wiki/Portaal:Inhoud/Portale\n",
      "5https://als.wikipedia.org/wiki/Portal:Themeportal\n",
      "6https://an.wikipedia.org/wiki/Portal:Portalada\n",
      "7https://ar.wikipedia.org/wiki/%D8%A8%D9%88%D8%A7%D8%A8%D8%A9:%D8%AA%D8%B5%D9%81%D8%AD\n",
      "8https://arz.wikipedia.org/wiki/%D8%A8%D9%88%D8%A7%D8%A8%D8%A9:%D8%AA%D8%B5%D9%81%D8%AD\n",
      "9https://as.wikipedia.org/wiki/%E0%A7%B1%E0%A6%BF%E0%A6%95%E0%A6%BF%E0%A6%9A%27%E0%A7%B0%E0%A6%BE:%E0%A6%AA%E0%A6%9E%E0%A7%8D%E0%A6%9C%E0%A7%80/%E0%A7%B1%E0%A6%BF%E0%A6%95%E0%A6%BF%E0%A6%9A%27%E0%A7%B0%E0%A6%BE%E0%A6%B8%E0%A6%AE%E0%A7%82%E0%A6%B9\n",
      "10https://av.wikipedia.org/wiki/%D0%9F%D0%BE%D1%80%D1%82%D0%B0%D0%BB:%D0%A5%D0%B0%D0%BB-%D1%88%D0%B0%D0%BB\n",
      "11https://ba.wikipedia.org/wiki/%D0%9F%D0%BE%D1%80%D1%82%D0%B0%D0%BB:%D0%91%D0%B0%D0%B9%D2%A1%D0%B0%D1%83\n",
      "12https://bar.wikipedia.org/wiki/Wikipedia:Themenportal\n",
      "13https://be.wikipedia.org/wiki/%D0%92%D1%96%D0%BA%D1%96%D0%BF%D0%B5%D0%B4%D1%8B%D1%8F:%D0%9F%D0%B0%D1%80%D1%82%D0%B0%D0%BB%D1%8B\n",
      "14https://be-tarask.wikipedia.org/wiki/%D0%9F%D0%B0%D1%80%D1%82%D0%B0%D0%BB:%D0%90%D0%B3%D0%BB%D1%8F%D0%B4\n",
      "15https://bg.wikipedia.org/wiki/%D0%A3%D0%B8%D0%BA%D0%B8%D0%BF%D0%B5%D0%B4%D0%B8%D1%8F:%D0%9F%D0%BE%D1%80%D1%82%D0%B0%D0%BB%D0%B8\n",
      "16https://bn.wikipedia.org/wiki/%E0%A6%89%E0%A6%87%E0%A6%95%E0%A6%BF%E0%A6%AA%E0%A6%BF%E0%A6%A1%E0%A6%BF%E0%A6%AF%E0%A6%BC%E0%A6%BE:%E0%A6%B8%E0%A7%82%E0%A6%9A%E0%A6%BF%E0%A6%AA%E0%A6%A4%E0%A7%8D%E0%A6%B0/%E0%A6%AA%E0%A7%8D%E0%A6%B0%E0%A6%AC%E0%A7%87%E0%A6%B6%E0%A6%A6%E0%A7%8D%E0%A6%AC%E0%A6%BE%E0%A6%B0\n",
      "17https://br.wikipedia.org/wiki/Wikipedia:Porched_ar_porchedo%C3%B9\n",
      "18https://ca.wikipedia.org/wiki/Portal:Portada\n",
      "19https://cs.wikipedia.org/wiki/Port%C3%A1l:Obsah\n",
      "20https://da.wikipedia.org/wiki/Portal:Portaler\n",
      "21https://de.wikipedia.org/wiki/Portal:Wikipedia_nach_Themen\n",
      "22https://diq.wikipedia.org/wiki/Portali\n",
      "23https://el.wikipedia.org/wiki/%CE%A0%CF%8D%CE%BB%CE%B7:%CE%98%CE%AD%CE%BC%CE%B1%CF%84%CE%B1\n",
      "24https://en.wikipedia.org/wiki/Wikipedia:Contents/Portals\n",
      "25https://eo.wikipedia.org/wiki/Portalo:Portalejo\n",
      "26https://es.wikipedia.org/wiki/Portal:Portada\n",
      "27https://et.wikipedia.org/wiki/Vikipeedia:Portaalid\n",
      "28https://eu.wikipedia.org/wiki/Atari:Azala\n",
      "29https://fa.wikipedia.org/wiki/%D8%AF%D8%B1%DA%AF%D8%A7%D9%87:%D8%AF%D8%B1%D9%88%D9%86%D9%85%D8%A7%DB%8C%D9%87/%D8%AF%D8%B1%DA%AF%D8%A7%D9%87%E2%80%8C%D9%87%D8%A7\n",
      "30https://fi.wikipedia.org/wiki/Teemasivu:Etusivu\n",
      "31https://frp.wikipedia.org/wiki/Vouiquip%C3%A8dia:Port%C3%A2l:Re%C3%A7ua\n",
      "32https://fy.wikipedia.org/wiki/Tema:Haadtema\n",
      "33https://gn.wikipedia.org/wiki/Ok%E1%BA%BDndusu:Ape\n",
      "34https://he.wikipedia.org/wiki/%D7%A4%D7%95%D7%A8%D7%98%D7%9C:%D7%A4%D7%95%D7%A8%D7%98%D7%9C%D7%99%D7%9D\n",
      "35https://hi.wikipedia.org/wiki/%E0%A4%AA%E0%A5%8D%E0%A4%B0%E0%A4%B5%E0%A5%87%E0%A4%B6%E0%A4%A6%E0%A5%8D%E0%A4%B5%E0%A4%BE%E0%A4%B0:%E0%A4%B8%E0%A4%BE%E0%A4%AE%E0%A4%97%E0%A5%8D%E0%A4%B0%E0%A5%80/%E0%A4%AA%E0%A5%8D%E0%A4%B0%E0%A4%B5%E0%A5%87%E0%A4%B6%E0%A4%A6%E0%A5%8D%E0%A4%B5%E0%A4%BE%E0%A4%B0\n",
      "36https://hr.wikipedia.org/wiki/Wikipedija:Popis_portala\n",
      "37https://hu.wikipedia.org/wiki/Port%C3%A1l:Port%C3%A1lok\n",
      "38https://hy.wikipedia.org/wiki/%D5%8A%D5%B8%D6%80%D5%BF%D5%A1%D5%AC:%D4%B1%D5%B4%D6%83%D5%B8%D6%83%D5%B8%D6%82%D5%B4\n",
      "39https://id.wikipedia.org/wiki/Wikipedia:Isi/Portal\n",
      "40https://inh.wikipedia.org/wiki/%D0%9A%D0%BE%D0%B2:%D0%91%D3%8F%D0%B0%D1%80%D0%B3%D0%B0%D0%B7%D0%B5%D0%BC\n",
      "41https://ja.wikipedia.org/wiki/Portal:%E3%82%B3%E3%83%B3%E3%83%86%E3%83%B3%E3%83%84/%E3%83%9D%E3%83%BC%E3%82%BF%E3%83%AB\n",
      "42https://ka.wikipedia.org/wiki/%E1%83%9E%E1%83%9D%E1%83%A0%E1%83%A2%E1%83%90%E1%83%9A%E1%83%98:%E1%83%9B%E1%83%97%E1%83%90%E1%83%95%E1%83%90%E1%83%A0%E1%83%98\n",
      "43https://kk.wikipedia.org/wiki/%D0%9F%D0%BE%D1%80%D1%82%D0%B0%D0%BB:%D0%A8%D0%BE%D0%BB%D1%83\n",
      "44https://km.wikipedia.org/wiki/Portal:Contents/Portals\n",
      "45https://ko.wikipedia.org/wiki/%ED%8F%AC%ED%84%B8:%EB%AA%A9%EC%B0%A8/%ED%8F%AC%ED%84%B8\n",
      "46https://ksh.wikipedia.org/wiki/Wikipedia:Pooz-Sigge\n",
      "47https://ku.wikipedia.org/wiki/Portal:Endeks\n",
      "48https://ky.wikipedia.org/wiki/%D0%9A%D0%B0%D0%BB%D1%8B%D0%BF:%D0%9F%D0%BE%D1%80%D1%82%D0%B0%D0%BB:%D0%9F%D0%BE%D1%80%D1%82%D0%B0%D0%BB%D0%B4%D0%B0%D1%80/%D0%91%D0%B0%D0%B3%D1%8B%D1%82%D1%8B\n",
      "49https://lb.wikipedia.org/wiki/Wikipedia:Portaler\n",
      "50https://lmo.wikipedia.org/wiki/Purtaal:Entrada\n",
      "51https://map-bms.wikipedia.org/wiki/Portal:Daftar_portal\n",
      "52https://ml.wikipedia.org/wiki/%E0%B4%95%E0%B4%B5%E0%B4%BE%E0%B4%9F%E0%B4%82:%E0%B4%89%E0%B4%B3%E0%B5%8D%E0%B4%B3%E0%B4%9F%E0%B4%95%E0%B5%8D%E0%B4%95%E0%B4%82/%E0%B4%95%E0%B4%B5%E0%B4%BE%E0%B4%9F%E0%B4%99%E0%B5%8D%E0%B4%99%E0%B5%BE\n",
      "53https://mn.wikipedia.org/wiki/Wikipedia:%D0%90%D0%BD%D0%B3%D0%B8%D0%BB%D0%BB%D1%83%D1%83%D0%B4%D1%8B%D0%BD_%D0%B8%D0%BD%D0%B4%D0%B5%D0%BA%D1%81\n",
      "54https://mnw.wikipedia.org/wiki/%E1%80%95%E1%80%AB%E1%80%84%E1%80%BA%E1%80%99%E1%80%AF%E1%80%80%E1%80%BA:Contents/Portals\n",
      "55https://ms.wikipedia.org/wiki/Portal:Senarai\n",
      "56https://my.wikipedia.org/wiki/%E1%80%9D%E1%80%AE%E1%80%80%E1%80%AE%E1%80%95%E1%80%AE%E1%80%B8%E1%80%92%E1%80%AE%E1%80%B8%E1%80%9A%E1%80%AC%E1%80%B8:%E1%80%99%E1%80%AC%E1%80%90%E1%80%AD%E1%80%80%E1%80%AC/%E1%80%99%E1%80%AF%E1%80%81%E1%80%BA%E1%80%A6%E1%80%B8%E1%80%99%E1%80%BB%E1%80%AC%E1%80%B8\n",
      "57https://nds.wikipedia.org/wiki/Portal:Wikipedia_na_Themen\n",
      "58https://ne.wikipedia.org/wiki/%E0%A4%AA%E0%A5%8B%E0%A4%B0%E0%A5%8D%E0%A4%9F%E0%A4%B2:%E0%A4%B8%E0%A4%BE%E0%A4%AE%E0%A4%97%E0%A5%8D%E0%A4%B0%E0%A5%80%E0%A4%B9%E0%A4%B0%E0%A5%82/%E0%A4%AA%E0%A5%8B%E0%A4%B0%E0%A5%8D%E0%A4%9F%E0%A4%B2%E0%A4%B9%E0%A4%B0%E0%A5%82\n",
      "59https://nl.wikipedia.org/wiki/Portaal:Portalenoverzicht\n",
      "60https://no.wikipedia.org/wiki/Portal:Portaler\n",
      "61https://oc.wikipedia.org/wiki/Portal:Acu%C3%A8lh\n",
      "62https://pl.wikipedia.org/wiki/Portal:Portale\n",
      "63https://pnb.wikipedia.org/wiki/%D8%A8%D9%88%DB%8C%D8%A2%DA%BA_%D8%AF%DB%8C_%D9%84%D8%B3%D9%B9\n",
      "64https://ps.wikipedia.org/wiki/%D8%AA%D8%A7%D9%86%D8%A8%D9%87:%D8%AF_%D8%AA%D8%A7%D9%86%D8%A8%D9%88_%D9%84%DA%93%D9%84%D9%8A%DA%A9\n",
      "65https://pt.wikipedia.org/wiki/Portal:%C3%8Dndice\n",
      "66https://ro.wikipedia.org/wiki/Portal:R%C4%83sfoire\n",
      "67https://ru.wikipedia.org/wiki/%D0%9F%D0%BE%D1%80%D1%82%D0%B0%D0%BB:%D0%9E%D0%B1%D0%B7%D0%BE%D1%80\n",
      "68https://scn.wikipedia.org/wiki/Wikipedia:Lista_d%C3%AE_purtali\n",
      "69https://sd.wikipedia.org/wiki/%D9%88%DA%AA%D9%8A%D9%BE%D9%8A%DA%8A%D9%8A%D8%A7:%D8%A8%D8%A7%D8%A8/%D9%85%D9%88%D8%A7%D8%AF\n",
      "70https://sh.wikipedia.org/wiki/Wikipedia:Popis_portala\n",
      "71https://shn.wikipedia.org/wiki/%E1%81%B5%E1%80%AD%E1%80%B0%E1%81%BC%E1%80%BA%E1%82%87%E1%80%90%E1%80%B0:Contents/Portals\n",
      "72https://si.wikipedia.org/wiki/%E0%B6%AF%E0%B7%8A%E0%B7%80%E0%B7%8F%E0%B6%BB%E0%B6%BA:%E0%B6%B4%E0%B6%A7%E0%B7%94%E0%B6%B1/%E0%B6%AF%E0%B7%8A%E0%B7%80%E0%B7%8F%E0%B6%BB\n",
      "73https://sq.wikipedia.org/wiki/Portal:Portal\n",
      "74https://su.wikipedia.org/wiki/Portal:Eusi/Portal\n",
      "75https://sv.wikipedia.org/wiki/Portal:Portaler\n",
      "76https://sw.wikipedia.org/wiki/Lango:Yaliyomo/Milango\n",
      "77https://ta.wikipedia.org/wiki/%E0%AE%B5%E0%AE%B2%E0%AF%88%E0%AE%B5%E0%AE%BE%E0%AE%9A%E0%AE%B2%E0%AF%8D:%E0%AE%89%E0%AE%B3%E0%AF%8D%E0%AE%B3%E0%AE%9F%E0%AE%95%E0%AF%8D%E0%AE%95%E0%AE%99%E0%AF%8D%E0%AE%95%E0%AE%B3%E0%AF%8D/%E0%AE%B5%E0%AE%B2%E0%AF%88%E0%AE%B5%E0%AE%BE%E0%AE%9A%E0%AE%B2%E0%AF%8D%E0%AE%95%E0%AE%B3%E0%AF%8D\n",
      "78https://tg.wikipedia.org/wiki/%D0%9F%D0%BE%D1%80%D1%82%D0%B0%D0%BB:%D0%94%D0%B0%D1%80%D1%83%D0%BD%D0%BC%D0%BE%D1%8F\n",
      "79https://tr.wikipedia.org/wiki/Vikipedi:Portal_listesi\n",
      "80https://tt.wikipedia.org/wiki/%D0%9F%D0%BE%D1%80%D1%82%D0%B0%D0%BB:%D0%9F%D0%BE%D1%80%D1%82%D0%B0%D0%BB%D0%BB%D0%B0%D1%80\n",
      "81https://uk.wikipedia.org/wiki/%D0%92%D1%96%D0%BA%D1%96%D0%BF%D0%B5%D0%B4%D1%96%D1%8F:%D0%92%D0%BC%D1%96%D1%81%D1%82/%D0%9F%D0%BE%D1%80%D1%82%D0%B0%D0%BB%D0%B8\n",
      "82https://uz.wikipedia.org/wiki/Portal:Mundarija\n",
      "83https://vec.wikipedia.org/wiki/Porta%C5%82e:Porta%C5%82i\n",
      "84https://vi.wikipedia.org/wiki/Wikipedia:Danh_s%C3%A1ch_c%E1%BB%95ng_th%C3%B4ng_tin\n",
      "85https://wuu.wikipedia.org/wiki/Portal:%E5%B0%81%E9%9D%A2\n",
      "86https://yo.wikipedia.org/wiki/%C3%88b%C3%BAt%C3%A9:%C3%80k%C3%B3%C3%B3n%C3%BA/%C3%80w%E1%BB%8Dn_%C3%A8b%C3%BAt%C3%A9\n",
      "87https://zh.wikipedia.org/wiki/Portal:%E9%A6%96%E9%A0%81\n",
      "88https://zh-classical.wikipedia.org/wiki/%E9%96%80:%E5%8D%B7%E9%A6%96\n",
      "89https://zh-min-nan.wikipedia.org/wiki/Portal:Th%C3%A2u-ia%CC%8Dh\n",
      "90https://zh-yue.wikipedia.org/wiki/Portal:%E6%8C%87%E5%8D%97%E7%B8%BD%E8%A6%BD\n",
      "91https://www.wikidata.org/wiki/Special:EntityPage/Q5008867#sitelinks-wikipedia\n"
     ]
    },
    {
     "ename": "TypeError",
     "evalue": "'NoneType' object is not subscriptable",
     "output_type": "error",
     "traceback": [
      "\u001b[1;31m---------------------------------------------------------------------------\u001b[0m",
      "\u001b[1;31mTypeError\u001b[0m                                 Traceback (most recent call last)",
      "Input \u001b[1;32mIn [60]\u001b[0m, in \u001b[0;36m<cell line: 13>\u001b[1;34m()\u001b[0m\n\u001b[0;32m      8\u001b[0m             i\u001b[38;5;241m+\u001b[39m\u001b[38;5;241m=\u001b[39m\u001b[38;5;241m1\u001b[39m\n\u001b[0;32m      9\u001b[0m             \u001b[38;5;28mprint\u001b[39m(\u001b[38;5;28mstr\u001b[39m(i)\u001b[38;5;241m+\u001b[39mredirection\u001b[38;5;241m.\u001b[39mget(\u001b[38;5;124m'\u001b[39m\u001b[38;5;124mhref\u001b[39m\u001b[38;5;124m'\u001b[39m))\n\u001b[1;32m---> 13\u001b[0m \u001b[43mgetAllRedirectionOfWiki\u001b[49m\u001b[43m(\u001b[49m\u001b[38;5;124;43m\"\u001b[39;49m\u001b[38;5;124;43mhttps://fr.wikipedia.org/wiki/Portail:Accueil\u001b[39;49m\u001b[38;5;124;43m\"\u001b[39;49m\u001b[43m)\u001b[49m\n",
      "Input \u001b[1;32mIn [60]\u001b[0m, in \u001b[0;36mgetAllRedirectionOfWiki\u001b[1;34m(path)\u001b[0m\n\u001b[0;32m      5\u001b[0m i \u001b[38;5;241m=\u001b[39m \u001b[38;5;241m0\u001b[39m\n\u001b[0;32m      6\u001b[0m \u001b[38;5;28;01mfor\u001b[39;00m  redirection \u001b[38;5;129;01min\u001b[39;00m AllRedirection :       \n\u001b[1;32m----> 7\u001b[0m      \u001b[38;5;28;01mif\u001b[39;00m (\u001b[43mredirection\u001b[49m\u001b[38;5;241;43m.\u001b[39;49m\u001b[43mget\u001b[49m\u001b[43m(\u001b[49m\u001b[38;5;124;43m'\u001b[39;49m\u001b[38;5;124;43mhref\u001b[39;49m\u001b[38;5;124;43m'\u001b[39;49m\u001b[43m)\u001b[49m\u001b[43m[\u001b[49m\u001b[38;5;241;43m0\u001b[39;49m\u001b[43m:\u001b[49m\u001b[38;5;241;43m8\u001b[39;49m\u001b[43m]\u001b[49m \u001b[38;5;241m==\u001b[39m \u001b[38;5;124m\"\u001b[39m\u001b[38;5;124mhttps://\u001b[39m\u001b[38;5;124m\"\u001b[39m):\n\u001b[0;32m      8\u001b[0m         i\u001b[38;5;241m+\u001b[39m\u001b[38;5;241m=\u001b[39m\u001b[38;5;241m1\u001b[39m\n\u001b[0;32m      9\u001b[0m         \u001b[38;5;28mprint\u001b[39m(\u001b[38;5;28mstr\u001b[39m(i)\u001b[38;5;241m+\u001b[39mredirection\u001b[38;5;241m.\u001b[39mget(\u001b[38;5;124m'\u001b[39m\u001b[38;5;124mhref\u001b[39m\u001b[38;5;124m'\u001b[39m))\n",
      "\u001b[1;31mTypeError\u001b[0m: 'NoneType' object is not subscriptable"
     ]
    }
   ],
   "source": [
    "def getAllRedirectionOfWiki(path):\n",
    "    page = requests.get(path).text\n",
    "    soup = BeautifulSoup(page, 'html.parser')\n",
    "    AllRedirection = soup.findAll('a')\n",
    "    i = 0\n",
    "    for  redirection in AllRedirection :       \n",
    "         if (redirection.get('href')[0:8] == \"https://\"):\n",
    "            i+=1\n",
    "            print(str(i)+redirection.get('href'))\n",
    "\n",
    "    \n",
    "    \n",
    "getAllRedirectionOfWiki(\"https://fr.wikipedia.org/wiki/Portail:Accueil\")"
   ]
  },
  {
   "cell_type": "code",
   "execution_count": null,
   "id": "e7e1614e-e915-45e1-bb41-b45f0694ade1",
   "metadata": {},
   "outputs": [],
   "source": []
  },
  {
   "cell_type": "markdown",
   "id": "e60e8907-38fd-4e34-8b37-a554afec2891",
   "metadata": {},
   "source": [
    "- Stockage Data\n"
   ]
  },
  {
   "cell_type": "code",
   "execution_count": null,
   "id": "d0492c19-d46e-4e79-9168-39eaeb0d8cb9",
   "metadata": {},
   "outputs": [],
   "source": []
  }
 ],
 "metadata": {
  "kernelspec": {
   "display_name": "Python 3 (ipykernel)",
   "language": "python",
   "name": "python3"
  },
  "language_info": {
   "codemirror_mode": {
    "name": "ipython",
    "version": 3
   },
   "file_extension": ".py",
   "mimetype": "text/x-python",
   "name": "python",
   "nbconvert_exporter": "python",
   "pygments_lexer": "ipython3",
   "version": "3.9.13"
  }
 },
 "nbformat": 4,
 "nbformat_minor": 5
}
