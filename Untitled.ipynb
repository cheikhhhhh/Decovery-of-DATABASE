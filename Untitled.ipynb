{
 "cells": [
  {
   "cell_type": "markdown",
   "id": "5cd40b6a-42b3-4071-941f-56531418b35a",
   "metadata": {},
   "source": [
    "### Import ###"
   ]
  },
  {
   "cell_type": "code",
   "execution_count": null,
   "id": "06ed5f25-5f09-4df9-9569-5e78b9fd8503",
   "metadata": {},
   "outputs": [
    {
     "ename": "SyntaxError",
     "evalue": "invalid syntax (3858950933.py, line 1)",
     "output_type": "error",
     "traceback": [
      "\u001b[1;36m  Input \u001b[1;32mIn [1]\u001b[1;36m\u001b[0m\n\u001b[1;33m    BUT : prendre en parametre de 2 lien url de wikepedia et essaye de trouver le chemin le plus cours\u001b[0m\n\u001b[1;37m                  ^\u001b[0m\n\u001b[1;31mSyntaxError\u001b[0m\u001b[1;31m:\u001b[0m invalid syntax\n"
     ]
    }
   ],
   "source": [
    "BUT : prendre en parametre de 2 lien url de wikepedia et essaye de trouver le chemin le plus cours\n",
    "en utilisant uniquement les redirection du premier lien"
   ]
  },
  {
   "cell_type": "code",
   "execution_count": 2,
   "id": "2f080394-103e-4553-a342-e6e67605fba9",
   "metadata": {},
   "outputs": [],
   "source": [
    "import requests\n",
    "from bs4  import BeautifulSoup\n"
   ]
  },
  {
   "cell_type": "markdown",
   "id": "4893a51a-aa13-43b7-8d6e-5c28588bae43",
   "metadata": {},
   "source": [
    "### Code ###"
   ]
  },
  {
   "cell_type": "markdown",
   "id": "41ef4ebd-3dc0-4b98-9f4e-35c8c3bfa988",
   "metadata": {},
   "source": [
    "- Recolte Data"
   ]
  },
  {
   "cell_type": "code",
   "execution_count": 112,
   "id": "71cc7908-ca2b-4331-b9d5-c0ffd5d5cd7b",
   "metadata": {
    "tags": []
   },
   "outputs": [
    {
     "name": "stdout",
     "output_type": "stream",
     "text": [
      "https://fr.wikipedia.org/wiki/Wikip%C3%A9dia:Accueil_principal\n",
      "Wikip%C3%A9dia:Accueil_principal\n",
      "https://fr.wikipedia.org/wiki/Sp%C3%A9cial:Recherche\n",
      "Sp%C3%A9cial:Recherche\n",
      "https://fr.wikipedia.org/wiki/Aide:Introduction\n",
      "Aide:Introduction\n",
      "https://fr.wikipedia.org/wiki/Sp%C3%A9cial:Mes_discussions\n",
      "Sp%C3%A9cial:Mes_discussions\n",
      "https://fr.wikipedia.org/wiki/Sp%C3%A9cial:Mes_contributions\n",
      "Sp%C3%A9cial:Mes_contributions\n",
      "https://fr.wikipedia.org/wiki/Wikip%C3%A9dia:Accueil_principal\n",
      "Wikip%C3%A9dia:Accueil_principal\n",
      "https://fr.wikipedia.org/wiki/Portail:Accueil\n",
      "Portail:Accueil\n",
      "https://fr.wikipedia.org/wiki/Sp%C3%A9cial:Page_au_hasard\n",
      "Sp%C3%A9cial:Page_au_hasard\n",
      "https://fr.wikipedia.org/wiki/Wikip%C3%A9dia:Contact\n",
      "Wikip%C3%A9dia:Contact\n",
      "https://fr.wikipedia.org/wiki/Aide:D%C3%A9buter\n",
      "Aide:D%C3%A9buter\n",
      "https://fr.wikipedia.org/wiki/Aide:Accueil\n",
      "Aide:Accueil\n",
      "https://fr.wikipedia.org/wiki/Wikip%C3%A9dia:Accueil_de_la_communaut%C3%A9\n",
      "Wikip%C3%A9dia:Accueil_de_la_communaut%C3%A9\n",
      "https://fr.wikipedia.org/wiki/Sp%C3%A9cial:Modifications_r%C3%A9centes\n",
      "Sp%C3%A9cial:Modifications_r%C3%A9centes\n",
      "https://fr.wikipedia.org/wiki/Sp%C3%A9cial:Pages_li%C3%A9es/Manga\n",
      "Sp%C3%A9cial:Pages_li%C3%A9es/Manga\n",
      "https://fr.wikipedia.org/wiki/Sp%C3%A9cial:Suivi_des_liens/Manga\n",
      "Sp%C3%A9cial:Suivi_des_liens/Manga\n",
      "https://fr.wikipedia.org/wiki/Aide:Importer_un_fichier\n",
      "Aide:Importer_un_fichier\n",
      "https://fr.wikipedia.org/wiki/Sp%C3%A9cial:Pages_sp%C3%A9ciales\n",
      "Sp%C3%A9cial:Pages_sp%C3%A9ciales\n",
      "https://fr.wikipedia.org/wiki/Manga\n",
      "Manga\n",
      "https://fr.wikipedia.org/wiki/Discussion:Manga\n",
      "Discussion:Manga\n",
      "https://fr.wikipedia.org/wiki/Manga\n",
      "Manga\n",
      "https://fr.wikipedia.org/wiki/Manga\n",
      "Manga\n",
      "https://fr.wikipedia.org/wiki/Aide:Homonymie\n",
      "Aide:Homonymie\n",
      "https://fr.wikipedia.org/wiki/Anime\n",
      "Anime\n",
      "https://fr.wikipedia.org/wiki/Aide:Homonymie\n",
      "Aide:Homonymie\n"
     ]
    },
    {
     "ename": "AttributeError",
     "evalue": "module 'urllib' has no attribute 'quote_plus'",
     "output_type": "error",
     "traceback": [
      "\u001b[1;31m---------------------------------------------------------------------------\u001b[0m",
      "\u001b[1;31mAttributeError\u001b[0m                            Traceback (most recent call last)",
      "Input \u001b[1;32mIn [11]\u001b[0m, in \u001b[0;36m<cell line: 24>\u001b[1;34m()\u001b[0m\n\u001b[0;32m     19\u001b[0m             \u001b[38;5;28mprint\u001b[39m(domain \u001b[38;5;241m+\u001b[39m redirection\u001b[38;5;241m.\u001b[39mget(\u001b[38;5;124m'\u001b[39m\u001b[38;5;124mhref\u001b[39m\u001b[38;5;124m'\u001b[39m))\n\u001b[0;32m     20\u001b[0m             \u001b[38;5;28mprint\u001b[39m(redirection\u001b[38;5;241m.\u001b[39mget(\u001b[38;5;124m'\u001b[39m\u001b[38;5;124mhref\u001b[39m\u001b[38;5;124m'\u001b[39m)[\u001b[38;5;241m6\u001b[39m:])\n\u001b[1;32m---> 24\u001b[0m \u001b[43mgetAllRedirectionOfWiki\u001b[49m\u001b[43m(\u001b[49m\u001b[38;5;124;43m\"\u001b[39;49m\u001b[38;5;124;43mManga\u001b[39;49m\u001b[38;5;124;43m\"\u001b[39;49m\u001b[43m)\u001b[49m\n",
      "Input \u001b[1;32mIn [11]\u001b[0m, in \u001b[0;36mgetAllRedirectionOfWiki\u001b[1;34m(depart)\u001b[0m\n\u001b[0;32m     12\u001b[0m \u001b[38;5;28;01mif\u001b[39;00m (redirection\u001b[38;5;241m.\u001b[39mget(\u001b[38;5;124m'\u001b[39m\u001b[38;5;124mhref\u001b[39m\u001b[38;5;124m'\u001b[39m)[\u001b[38;5;241m-\u001b[39m\u001b[38;5;241m1\u001b[39m]\u001b[38;5;241m==\u001b[39m\u001b[38;5;124m\"\u001b[39m\u001b[38;5;124m)\u001b[39m\u001b[38;5;124m\"\u001b[39m):\n\u001b[0;32m     13\u001b[0m     params \u001b[38;5;241m=\u001b[39m { \u001b[38;5;124m'\u001b[39m\u001b[38;5;124m)\u001b[39m\u001b[38;5;124m'\u001b[39m}\n\u001b[1;32m---> 14\u001b[0m     \u001b[43murllib\u001b[49m\u001b[38;5;241;43m.\u001b[39;49m\u001b[43mquote_plus\u001b[49m(params)\n\u001b[0;32m     16\u001b[0m \u001b[38;5;66;03m# if \")\"  in redirection.get('href'):\u001b[39;00m\n\u001b[0;32m     17\u001b[0m \u001b[38;5;66;03m#     print(str(domain + redirection.get('href')))\u001b[39;00m\n\u001b[0;32m     19\u001b[0m \u001b[38;5;28mprint\u001b[39m(domain \u001b[38;5;241m+\u001b[39m redirection\u001b[38;5;241m.\u001b[39mget(\u001b[38;5;124m'\u001b[39m\u001b[38;5;124mhref\u001b[39m\u001b[38;5;124m'\u001b[39m))\n",
      "\u001b[1;31mAttributeError\u001b[0m: module 'urllib' has no attribute 'quote_plus'"
     ]
    }
   ],
   "source": [
    "from urllib.parse import urlparse\n",
    "\n",
    "domain =\"https://fr.wikipedia.org\"\n",
    "def getAllRedirectionOfWiki(depart):\n",
    "    page = requests.get(domain+\"/wiki/\"+depart).text\n",
    "    soup = BeautifulSoup(page, 'html.parser')\n",
    "    AllRedirection = soup.findAll('a')\n",
    "    i = 0\n",
    "    for  redirection in AllRedirection :\n",
    "         if (len(str(redirection.get('href'))) >6 and redirection.get('href')[0:6] == \"/wiki/\"):\n",
    "            i+=1\n",
    "            #if (redirection.get('href')[-1]==\")\"):\n",
    "                #print(str(domain + redirection.get('href'))+\")\")\n",
    "                \n",
    "            if \")\"  in redirection.get('href'):\n",
    "                print(str(domain + redirection.get('href')))\n",
    "                \n",
    "            print(domain + redirection.get('href'))\n",
    "            print(redirection.get('href')[6:])\n",
    "\n",
    "   \n",
    "    \n",
    "getAllRedirectionOfWiki(\"Manga\")"
   ]
  },
  {
   "cell_type": "code",
   "execution_count": null,
   "id": "29f4ef31-3081-4936-918e-eeee41123183",
   "metadata": {},
   "outputs": [
    {
     "ename": "NameError",
     "evalue": "name 'redirection' is not defined",
     "output_type": "error",
     "traceback": [
      "\u001b[1;31m---------------------------------------------------------------------------\u001b[0m",
      "\u001b[1;31mNameError\u001b[0m                                 Traceback (most recent call last)",
      "Input \u001b[1;32mIn [104]\u001b[0m, in \u001b[0;36m<cell line: 1>\u001b[1;34m()\u001b[0m\n\u001b[1;32m----> 1\u001b[0m \u001b[38;5;28;01mif\u001b[39;00m \u001b[38;5;124m\"\u001b[39m\u001b[38;5;124m)\u001b[39m\u001b[38;5;124m\"\u001b[39m \u001b[38;5;129;01min\u001b[39;00m \u001b[43mredirection\u001b[49m\u001b[38;5;241m.\u001b[39mget(\u001b[38;5;124m'\u001b[39m\u001b[38;5;124mhref\u001b[39m\u001b[38;5;124m'\u001b[39m):\n\u001b[0;32m      2\u001b[0m        \u001b[38;5;28mprint\u001b[39m(\u001b[38;5;124m\"\u001b[39m\u001b[38;5;124mok\u001b[39m\u001b[38;5;124m\"\u001b[39m)\n",
      "\u001b[1;31mNameError\u001b[0m: name 'redirection' is not defined"
     ]
    }
   ],
   "source": []
  },
  {
   "cell_type": "code",
   "execution_count": null,
   "id": "e7e1614e-e915-45e1-bb41-b45f0694ade1",
   "metadata": {},
   "outputs": [],
   "source": []
  },
  {
   "cell_type": "markdown",
   "id": "e60e8907-38fd-4e34-8b37-a554afec2891",
   "metadata": {},
   "source": [
    "- Stockage Data\n"
   ]
  },
  {
   "cell_type": "code",
   "execution_count": null,
   "id": "d0492c19-d46e-4e79-9168-39eaeb0d8cb9",
   "metadata": {},
   "outputs": [],
   "source": []
  }
 ],
 "metadata": {
  "kernelspec": {
   "display_name": "Python 3 (ipykernel)",
   "language": "python",
   "name": "python3"
  },
  "language_info": {
   "codemirror_mode": {
    "name": "ipython",
    "version": 3
   },
   "file_extension": ".py",
   "mimetype": "text/x-python",
   "name": "python",
   "nbconvert_exporter": "python",
   "pygments_lexer": "ipython3",
   "version": "3.9.13"
  }
 },
 "nbformat": 4,
 "nbformat_minor": 5
}
